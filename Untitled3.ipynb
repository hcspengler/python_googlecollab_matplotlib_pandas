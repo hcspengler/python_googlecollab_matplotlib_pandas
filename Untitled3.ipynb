{
  "nbformat": 4,
  "nbformat_minor": 0,
  "metadata": {
    "colab": {
      "name": "Untitled3.ipynb",
      "provenance": [],
      "toc_visible": true,
      "mount_file_id": "1WhVHot4EycnnBgsfDBRCN9DqG7bh8B5k",
      "authorship_tag": "ABX9TyMn3fI31iR9pkvm7sn5lWOh",
      "include_colab_link": true
    },
    "kernelspec": {
      "name": "python3",
      "display_name": "Python 3"
    }
  },
  "cells": [
    {
      "cell_type": "markdown",
      "metadata": {
        "id": "view-in-github",
        "colab_type": "text"
      },
      "source": [
        "<a href=\"https://colab.research.google.com/github/hcspengler/python_googlecollab_matplotlib_pandas/blob/master/Untitled3.ipynb\" target=\"_parent\"><img src=\"https://colab.research.google.com/assets/colab-badge.svg\" alt=\"Open In Colab\"/></a>"
      ]
    },
    {
      "cell_type": "markdown",
      "metadata": {
        "id": "ctB9pWb3PAVy",
        "colab_type": "text"
      },
      "source": [
        "# Lab - Usando a biblioteca pandas do python \n",
        "## Importando os dados sobre expectativa de vida e pib"
      ]
    },
    {
      "cell_type": "code",
      "metadata": {
        "id": "Xl01liV7PRjj",
        "colab_type": "code",
        "colab": {}
      },
      "source": [
        "# Importando as bibliotecas\n",
        "import pandas as pd\n",
        "import matplotlib.pyplot as plt \n"
      ],
      "execution_count": null,
      "outputs": []
    },
    {
      "cell_type": "code",
      "metadata": {
        "id": "5CbopknoO4dt",
        "colab_type": "code",
        "colab": {}
      },
      "source": [
        "# Ler arquivo csv\n",
        "df_PIB = pd.read_csv(\"/content/drive/My Drive/datasets/Gapminder.csv\", error_bad_lines=False, sep=\";\")"
      ],
      "execution_count": null,
      "outputs": []
    },
    {
      "cell_type": "code",
      "metadata": {
        "id": "zyI4FXavP_IX",
        "colab_type": "code",
        "colab": {
          "base_uri": "https://localhost:8080/",
          "height": 198
        },
        "outputId": "625f3679-5f79-4bc7-c7a0-ac6d36748ba1"
      },
      "source": [
        "# Ler as primeiras 5 linhas\n",
        "df_PIB.head()"
      ],
      "execution_count": null,
      "outputs": [
        {
          "output_type": "execute_result",
          "data": {
            "text/html": [
              "<div>\n",
              "<style scoped>\n",
              "    .dataframe tbody tr th:only-of-type {\n",
              "        vertical-align: middle;\n",
              "    }\n",
              "\n",
              "    .dataframe tbody tr th {\n",
              "        vertical-align: top;\n",
              "    }\n",
              "\n",
              "    .dataframe thead th {\n",
              "        text-align: right;\n",
              "    }\n",
              "</style>\n",
              "<table border=\"1\" class=\"dataframe\">\n",
              "  <thead>\n",
              "    <tr style=\"text-align: right;\">\n",
              "      <th></th>\n",
              "      <th>country</th>\n",
              "      <th>continent</th>\n",
              "      <th>year</th>\n",
              "      <th>lifeExp</th>\n",
              "      <th>pop</th>\n",
              "      <th>gdpPercap</th>\n",
              "    </tr>\n",
              "  </thead>\n",
              "  <tbody>\n",
              "    <tr>\n",
              "      <th>0</th>\n",
              "      <td>Afghanistan</td>\n",
              "      <td>Asia</td>\n",
              "      <td>1952</td>\n",
              "      <td>28.801</td>\n",
              "      <td>8425333</td>\n",
              "      <td>779.445314</td>\n",
              "    </tr>\n",
              "    <tr>\n",
              "      <th>1</th>\n",
              "      <td>Afghanistan</td>\n",
              "      <td>Asia</td>\n",
              "      <td>1957</td>\n",
              "      <td>30.332</td>\n",
              "      <td>9240934</td>\n",
              "      <td>820.853030</td>\n",
              "    </tr>\n",
              "    <tr>\n",
              "      <th>2</th>\n",
              "      <td>Afghanistan</td>\n",
              "      <td>Asia</td>\n",
              "      <td>1962</td>\n",
              "      <td>31.997</td>\n",
              "      <td>10267083</td>\n",
              "      <td>853.100710</td>\n",
              "    </tr>\n",
              "    <tr>\n",
              "      <th>3</th>\n",
              "      <td>Afghanistan</td>\n",
              "      <td>Asia</td>\n",
              "      <td>1967</td>\n",
              "      <td>34.020</td>\n",
              "      <td>11537966</td>\n",
              "      <td>836.197138</td>\n",
              "    </tr>\n",
              "    <tr>\n",
              "      <th>4</th>\n",
              "      <td>Afghanistan</td>\n",
              "      <td>Asia</td>\n",
              "      <td>1972</td>\n",
              "      <td>36.088</td>\n",
              "      <td>13079460</td>\n",
              "      <td>739.981106</td>\n",
              "    </tr>\n",
              "  </tbody>\n",
              "</table>\n",
              "</div>"
            ],
            "text/plain": [
              "       country continent  year  lifeExp       pop   gdpPercap\n",
              "0  Afghanistan      Asia  1952   28.801   8425333  779.445314\n",
              "1  Afghanistan      Asia  1957   30.332   9240934  820.853030\n",
              "2  Afghanistan      Asia  1962   31.997  10267083  853.100710\n",
              "3  Afghanistan      Asia  1967   34.020  11537966  836.197138\n",
              "4  Afghanistan      Asia  1972   36.088  13079460  739.981106"
            ]
          },
          "metadata": {
            "tags": []
          },
          "execution_count": 4
        }
      ]
    },
    {
      "cell_type": "code",
      "metadata": {
        "id": "4GuuSD23RFwL",
        "colab_type": "code",
        "colab": {}
      },
      "source": [
        "# Renomear os nomes das colunas para português\n",
        "df_PIB = df_PIB.rename(columns={\"country\":\"pais\", \"continent\":\"continente\", \"year\":\"ano\", \"lifeExp\": \"expectativa de vida\", \"pop\":\"pop total\", \"gdpPercap\":\"PIB\"})"
      ],
      "execution_count": null,
      "outputs": []
    },
    {
      "cell_type": "code",
      "metadata": {
        "id": "x0A_UHshR_P8",
        "colab_type": "code",
        "colab": {
          "base_uri": "https://localhost:8080/",
          "height": 35
        },
        "outputId": "4f1720c6-5da8-4690-e0e7-225fd04db726"
      },
      "source": [
        "# Ver como ficou os nomes das colunas\n",
        "df_PIB.columns\n"
      ],
      "execution_count": null,
      "outputs": [
        {
          "output_type": "execute_result",
          "data": {
            "text/plain": [
              "Index(['pais', 'continente', 'ano', 'expectativa de vida', 'pop total', 'PIB'], dtype='object')"
            ]
          },
          "metadata": {
            "tags": []
          },
          "execution_count": 6
        }
      ]
    },
    {
      "cell_type": "code",
      "metadata": {
        "id": "bvxnqcNQSJWr",
        "colab_type": "code",
        "colab": {
          "base_uri": "https://localhost:8080/",
          "height": 145
        },
        "outputId": "9f29016c-517c-403f-8646-0709cc53b7e3"
      },
      "source": [
        "# verificar os tipos dos dados\n",
        "df_PIB.dtypes"
      ],
      "execution_count": null,
      "outputs": [
        {
          "output_type": "execute_result",
          "data": {
            "text/plain": [
              "pais                    object\n",
              "continente              object\n",
              "ano                      int64\n",
              "expectativa de vida    float64\n",
              "pop total                int64\n",
              "PIB                    float64\n",
              "dtype: object"
            ]
          },
          "metadata": {
            "tags": []
          },
          "execution_count": 7
        }
      ]
    },
    {
      "cell_type": "markdown",
      "metadata": {
        "id": "A2DK345Gksh_",
        "colab_type": "text"
      },
      "source": [
        "## Separar os dados do continente Americano"
      ]
    },
    {
      "cell_type": "code",
      "metadata": {
        "id": "hVQT5jGaTE2r",
        "colab_type": "code",
        "colab": {
          "base_uri": "https://localhost:8080/",
          "height": 54
        },
        "outputId": "54db4ea0-1fb7-4c86-ad77-211de86e533d"
      },
      "source": [
        "# quais continentes temos\n",
        "df_PIB[\"continente\"].unique()"
      ],
      "execution_count": null,
      "outputs": [
        {
          "output_type": "execute_result",
          "data": {
            "text/plain": [
              "array(['Asia', 'Europe', 'Africa', 'Americas', nan, 'FSU', 'Oceania'],\n",
              "      dtype=object)"
            ]
          },
          "metadata": {
            "tags": []
          },
          "execution_count": 8
        }
      ]
    },
    {
      "cell_type": "code",
      "metadata": {
        "id": "1Xb9bZAiTRCT",
        "colab_type": "code",
        "colab": {}
      },
      "source": [
        "# juntar os dados por continente\n",
        "Americas = df_PIB.loc[df_PIB[\"continente\"]==\"Americas\"]\n",
        "Asia = df_PIB.loc[df_PIB[\"continente\"]==\"Asia\"]\n",
        "Africa = df_PIB.loc[df_PIB[\"continente\"]==\"Africa\"]\n",
        "Europa = df_PIB.loc[df_PIB[\"continente\"]==\"Europe\"]\n",
        "Oceania = df_PIB.loc[df_PIB[\"continente\"]==\"Oceania\"]"
      ],
      "execution_count": null,
      "outputs": []
    },
    {
      "cell_type": "code",
      "metadata": {
        "id": "VR4TutZpUHZA",
        "colab_type": "code",
        "colab": {
          "base_uri": "https://localhost:8080/",
          "height": 72
        },
        "outputId": "9cfd0315-974e-4608-f7d4-de9fcd5c07e2"
      },
      "source": [
        "#só sobrou américa mesmo? sim\n",
        "Americas.groupby(\"continente\")[\"pais\"].nunique()"
      ],
      "execution_count": null,
      "outputs": [
        {
          "output_type": "execute_result",
          "data": {
            "text/plain": [
              "continente\n",
              "Americas    25\n",
              "Name: pais, dtype: int64"
            ]
          },
          "metadata": {
            "tags": []
          },
          "execution_count": 10
        }
      ]
    },
    {
      "cell_type": "code",
      "metadata": {
        "id": "kycvvP-6WzB3",
        "colab_type": "code",
        "colab": {
          "base_uri": "https://localhost:8080/",
          "height": 35
        },
        "outputId": "93ac4f87-f259-492b-9279-9fe2d9868344"
      },
      "source": [
        "# PIB médio do continente americano\n",
        "Americas[\"PIB\"].mean()"
      ],
      "execution_count": null,
      "outputs": [
        {
          "output_type": "execute_result",
          "data": {
            "text/plain": [
              "8979.564474740524"
            ]
          },
          "metadata": {
            "tags": []
          },
          "execution_count": 11
        }
      ]
    },
    {
      "cell_type": "code",
      "metadata": {
        "id": "ciem62WlW7Nk",
        "colab_type": "code",
        "colab": {
          "base_uri": "https://localhost:8080/",
          "height": 508
        },
        "outputId": "9a46da02-c17f-47e0-8843-7a527b0c046a"
      },
      "source": [
        "# Países do continente americano e seus PIBs médios listados listados\n",
        "Americas.groupby(\"pais\")[\"PIB\"].mean()"
      ],
      "execution_count": null,
      "outputs": [
        {
          "output_type": "execute_result",
          "data": {
            "text/plain": [
              "pais\n",
              "Argentina               8955.553783\n",
              "Bolivia                 2961.228754\n",
              "Brazil                  5829.316653\n",
              "Chile                   6703.289147\n",
              "Colombia                4195.342920\n",
              "Costa Rica              5217.165453\n",
              "Cuba                    6198.426186\n",
              "Dominican Republic      2844.856405\n",
              "Ecuador                 5733.624767\n",
              "El Salvador             4431.846597\n",
              "Guatemala               4015.402771\n",
              "Guyana                  2642.185887\n",
              "Honduras                2834.413083\n",
              "Jamaica                 6197.645405\n",
              "Mexico                  7383.317635\n",
              "Nicaragua               3424.655770\n",
              "Panama                  5754.827172\n",
              "Paraguay                3239.606791\n",
              "Peru                    5613.844087\n",
              "Puerto Rico            10244.617266\n",
              "Suriname                6164.767066\n",
              "Trinidad and Tobago     7866.871946\n",
              "United States          25494.615240\n",
              "Uruguay                 7100.133176\n",
              "Venezuela              10088.516252\n",
              "Name: PIB, dtype: float64"
            ]
          },
          "metadata": {
            "tags": []
          },
          "execution_count": 12
        }
      ]
    },
    {
      "cell_type": "code",
      "metadata": {
        "id": "HYxy9vJOWs5m",
        "colab_type": "code",
        "colab": {
          "base_uri": "https://localhost:8080/",
          "height": 145
        },
        "outputId": "78311be6-2c30-4571-c25d-0a931c1566f7"
      },
      "source": [
        "# Tem algum nulo? não\n",
        "Americas.isnull().sum()"
      ],
      "execution_count": null,
      "outputs": [
        {
          "output_type": "execute_result",
          "data": {
            "text/plain": [
              "pais                   0\n",
              "continente             0\n",
              "ano                    0\n",
              "expectativa de vida    0\n",
              "pop total              0\n",
              "PIB                    0\n",
              "dtype: int64"
            ]
          },
          "metadata": {
            "tags": []
          },
          "execution_count": 13
        }
      ]
    },
    {
      "cell_type": "code",
      "metadata": {
        "id": "QApjXM6HYl1N",
        "colab_type": "code",
        "colab": {
          "base_uri": "https://localhost:8080/",
          "height": 198
        },
        "outputId": "aabbb5ed-672a-48a7-eed4-3e80ed421d84"
      },
      "source": [
        "Americas.head()"
      ],
      "execution_count": null,
      "outputs": [
        {
          "output_type": "execute_result",
          "data": {
            "text/html": [
              "<div>\n",
              "<style scoped>\n",
              "    .dataframe tbody tr th:only-of-type {\n",
              "        vertical-align: middle;\n",
              "    }\n",
              "\n",
              "    .dataframe tbody tr th {\n",
              "        vertical-align: top;\n",
              "    }\n",
              "\n",
              "    .dataframe thead th {\n",
              "        text-align: right;\n",
              "    }\n",
              "</style>\n",
              "<table border=\"1\" class=\"dataframe\">\n",
              "  <thead>\n",
              "    <tr style=\"text-align: right;\">\n",
              "      <th></th>\n",
              "      <th>pais</th>\n",
              "      <th>continente</th>\n",
              "      <th>ano</th>\n",
              "      <th>expectativa de vida</th>\n",
              "      <th>pop total</th>\n",
              "      <th>PIB</th>\n",
              "    </tr>\n",
              "  </thead>\n",
              "  <tbody>\n",
              "    <tr>\n",
              "      <th>48</th>\n",
              "      <td>Argentina</td>\n",
              "      <td>Americas</td>\n",
              "      <td>1952</td>\n",
              "      <td>62.485</td>\n",
              "      <td>17876956</td>\n",
              "      <td>5911.315053</td>\n",
              "    </tr>\n",
              "    <tr>\n",
              "      <th>49</th>\n",
              "      <td>Argentina</td>\n",
              "      <td>Americas</td>\n",
              "      <td>1957</td>\n",
              "      <td>64.399</td>\n",
              "      <td>19610538</td>\n",
              "      <td>6856.856212</td>\n",
              "    </tr>\n",
              "    <tr>\n",
              "      <th>50</th>\n",
              "      <td>Argentina</td>\n",
              "      <td>Americas</td>\n",
              "      <td>1962</td>\n",
              "      <td>65.142</td>\n",
              "      <td>21283783</td>\n",
              "      <td>7133.166023</td>\n",
              "    </tr>\n",
              "    <tr>\n",
              "      <th>51</th>\n",
              "      <td>Argentina</td>\n",
              "      <td>Americas</td>\n",
              "      <td>1967</td>\n",
              "      <td>65.634</td>\n",
              "      <td>22934225</td>\n",
              "      <td>8052.953021</td>\n",
              "    </tr>\n",
              "    <tr>\n",
              "      <th>52</th>\n",
              "      <td>Argentina</td>\n",
              "      <td>Americas</td>\n",
              "      <td>1972</td>\n",
              "      <td>67.065</td>\n",
              "      <td>24779799</td>\n",
              "      <td>9443.038526</td>\n",
              "    </tr>\n",
              "  </tbody>\n",
              "</table>\n",
              "</div>"
            ],
            "text/plain": [
              "         pais continente   ano  expectativa de vida  pop total          PIB\n",
              "48  Argentina   Americas  1952               62.485   17876956  5911.315053\n",
              "49  Argentina   Americas  1957               64.399   19610538  6856.856212\n",
              "50  Argentina   Americas  1962               65.142   21283783  7133.166023\n",
              "51  Argentina   Americas  1967               65.634   22934225  8052.953021\n",
              "52  Argentina   Americas  1972               67.065   24779799  9443.038526"
            ]
          },
          "metadata": {
            "tags": []
          },
          "execution_count": 14
        }
      ]
    },
    {
      "cell_type": "code",
      "metadata": {
        "id": "322900HfY4pM",
        "colab_type": "code",
        "colab": {
          "base_uri": "https://localhost:8080/",
          "height": 78
        },
        "outputId": "d09348ac-4243-463c-beee-d0f7a55a23e0"
      },
      "source": [
        "# Qual foi o maior PIB dentre os países e de todos os anos?\n",
        "Americas.loc[Americas[\"PIB\"]== Americas[\"PIB\"].max()]"
      ],
      "execution_count": null,
      "outputs": [
        {
          "output_type": "execute_result",
          "data": {
            "text/html": [
              "<div>\n",
              "<style scoped>\n",
              "    .dataframe tbody tr th:only-of-type {\n",
              "        vertical-align: middle;\n",
              "    }\n",
              "\n",
              "    .dataframe tbody tr th {\n",
              "        vertical-align: top;\n",
              "    }\n",
              "\n",
              "    .dataframe thead th {\n",
              "        text-align: right;\n",
              "    }\n",
              "</style>\n",
              "<table border=\"1\" class=\"dataframe\">\n",
              "  <thead>\n",
              "    <tr style=\"text-align: right;\">\n",
              "      <th></th>\n",
              "      <th>pais</th>\n",
              "      <th>continente</th>\n",
              "      <th>ano</th>\n",
              "      <th>expectativa de vida</th>\n",
              "      <th>pop total</th>\n",
              "      <th>PIB</th>\n",
              "    </tr>\n",
              "  </thead>\n",
              "  <tbody>\n",
              "    <tr>\n",
              "      <th>3216</th>\n",
              "      <td>United States</td>\n",
              "      <td>Americas</td>\n",
              "      <td>2007</td>\n",
              "      <td>78.242</td>\n",
              "      <td>301139947</td>\n",
              "      <td>42951.65309</td>\n",
              "    </tr>\n",
              "  </tbody>\n",
              "</table>\n",
              "</div>"
            ],
            "text/plain": [
              "               pais continente  ...  pop total          PIB\n",
              "3216  United States   Americas  ...  301139947  42951.65309\n",
              "\n",
              "[1 rows x 6 columns]"
            ]
          },
          "metadata": {
            "tags": []
          },
          "execution_count": 15
        }
      ]
    },
    {
      "cell_type": "code",
      "metadata": {
        "id": "8mxiQ319ZJGW",
        "colab_type": "code",
        "colab": {
          "base_uri": "https://localhost:8080/",
          "height": 78
        },
        "outputId": "0652ec88-57e4-40c2-d783-1089e928c343"
      },
      "source": [
        "# E para o menor PIB?\n",
        "Americas.loc[Americas[\"PIB\"] == Americas[\"PIB\"].min()]"
      ],
      "execution_count": null,
      "outputs": [
        {
          "output_type": "execute_result",
          "data": {
            "text/html": [
              "<div>\n",
              "<style scoped>\n",
              "    .dataframe tbody tr th:only-of-type {\n",
              "        vertical-align: middle;\n",
              "    }\n",
              "\n",
              "    .dataframe tbody tr th {\n",
              "        vertical-align: top;\n",
              "    }\n",
              "\n",
              "    .dataframe thead th {\n",
              "        text-align: right;\n",
              "    }\n",
              "</style>\n",
              "<table border=\"1\" class=\"dataframe\">\n",
              "  <thead>\n",
              "    <tr style=\"text-align: right;\">\n",
              "      <th></th>\n",
              "      <th>pais</th>\n",
              "      <th>continente</th>\n",
              "      <th>ano</th>\n",
              "      <th>expectativa de vida</th>\n",
              "      <th>pop total</th>\n",
              "      <th>PIB</th>\n",
              "    </tr>\n",
              "  </thead>\n",
              "  <tbody>\n",
              "    <tr>\n",
              "      <th>873</th>\n",
              "      <td>Dominican Republic</td>\n",
              "      <td>Americas</td>\n",
              "      <td>1952</td>\n",
              "      <td>45.928</td>\n",
              "      <td>2491346</td>\n",
              "      <td>1397.717137</td>\n",
              "    </tr>\n",
              "  </tbody>\n",
              "</table>\n",
              "</div>"
            ],
            "text/plain": [
              "                   pais continente  ...  pop total          PIB\n",
              "873  Dominican Republic   Americas  ...    2491346  1397.717137\n",
              "\n",
              "[1 rows x 6 columns]"
            ]
          },
          "metadata": {
            "tags": []
          },
          "execution_count": 16
        }
      ]
    },
    {
      "cell_type": "markdown",
      "metadata": {
        "id": "KvywwGqQlAaq",
        "colab_type": "text"
      },
      "source": [
        "## Analisar os dados do Brasil"
      ]
    },
    {
      "cell_type": "code",
      "metadata": {
        "id": "Wb8QkqTMZglv",
        "colab_type": "code",
        "colab": {}
      },
      "source": [
        "# Separar os dados do Brasil\n",
        "Brasil = Americas.loc[Americas[\"pais\"] == \"Brazil\" ]"
      ],
      "execution_count": null,
      "outputs": []
    },
    {
      "cell_type": "code",
      "metadata": {
        "id": "N1cjD35KauS0",
        "colab_type": "code",
        "colab": {
          "base_uri": "https://localhost:8080/",
          "height": 198
        },
        "outputId": "c67bd8a3-d12a-43e1-d1b2-3bf9c42a8f6a"
      },
      "source": [
        "Brasil.head()"
      ],
      "execution_count": null,
      "outputs": [
        {
          "output_type": "execute_result",
          "data": {
            "text/html": [
              "<div>\n",
              "<style scoped>\n",
              "    .dataframe tbody tr th:only-of-type {\n",
              "        vertical-align: middle;\n",
              "    }\n",
              "\n",
              "    .dataframe tbody tr th {\n",
              "        vertical-align: top;\n",
              "    }\n",
              "\n",
              "    .dataframe thead th {\n",
              "        text-align: right;\n",
              "    }\n",
              "</style>\n",
              "<table border=\"1\" class=\"dataframe\">\n",
              "  <thead>\n",
              "    <tr style=\"text-align: right;\">\n",
              "      <th></th>\n",
              "      <th>pais</th>\n",
              "      <th>continente</th>\n",
              "      <th>ano</th>\n",
              "      <th>expectativa de vida</th>\n",
              "      <th>pop total</th>\n",
              "      <th>PIB</th>\n",
              "    </tr>\n",
              "  </thead>\n",
              "  <tbody>\n",
              "    <tr>\n",
              "      <th>375</th>\n",
              "      <td>Brazil</td>\n",
              "      <td>Americas</td>\n",
              "      <td>1952</td>\n",
              "      <td>50.917</td>\n",
              "      <td>56602560</td>\n",
              "      <td>2108.944355</td>\n",
              "    </tr>\n",
              "    <tr>\n",
              "      <th>376</th>\n",
              "      <td>Brazil</td>\n",
              "      <td>Americas</td>\n",
              "      <td>1957</td>\n",
              "      <td>53.285</td>\n",
              "      <td>65551171</td>\n",
              "      <td>2487.365989</td>\n",
              "    </tr>\n",
              "    <tr>\n",
              "      <th>377</th>\n",
              "      <td>Brazil</td>\n",
              "      <td>Americas</td>\n",
              "      <td>1962</td>\n",
              "      <td>55.665</td>\n",
              "      <td>76039390</td>\n",
              "      <td>3336.585802</td>\n",
              "    </tr>\n",
              "    <tr>\n",
              "      <th>378</th>\n",
              "      <td>Brazil</td>\n",
              "      <td>Americas</td>\n",
              "      <td>1967</td>\n",
              "      <td>57.632</td>\n",
              "      <td>88049823</td>\n",
              "      <td>3429.864357</td>\n",
              "    </tr>\n",
              "    <tr>\n",
              "      <th>379</th>\n",
              "      <td>Brazil</td>\n",
              "      <td>Americas</td>\n",
              "      <td>1972</td>\n",
              "      <td>59.504</td>\n",
              "      <td>100840058</td>\n",
              "      <td>4985.711467</td>\n",
              "    </tr>\n",
              "  </tbody>\n",
              "</table>\n",
              "</div>"
            ],
            "text/plain": [
              "       pais continente   ano  expectativa de vida  pop total          PIB\n",
              "375  Brazil   Americas  1952               50.917   56602560  2108.944355\n",
              "376  Brazil   Americas  1957               53.285   65551171  2487.365989\n",
              "377  Brazil   Americas  1962               55.665   76039390  3336.585802\n",
              "378  Brazil   Americas  1967               57.632   88049823  3429.864357\n",
              "379  Brazil   Americas  1972               59.504  100840058  4985.711467"
            ]
          },
          "metadata": {
            "tags": []
          },
          "execution_count": 18
        }
      ]
    },
    {
      "cell_type": "code",
      "metadata": {
        "id": "m5BOqsvMayh9",
        "colab_type": "code",
        "colab": {
          "base_uri": "https://localhost:8080/",
          "height": 495
        },
        "outputId": "7b1ac824-db21-4e0c-bde1-5e19e12ad4de"
      },
      "source": [
        "# Separar colunas de ano, pib e expectativa de vida numa tabela menor\n",
        "Brasil.groupby(\"ano\")[\"PIB\",\"expectativa de vida\"].mean()"
      ],
      "execution_count": null,
      "outputs": [
        {
          "output_type": "stream",
          "text": [
            "/usr/local/lib/python3.6/dist-packages/ipykernel_launcher.py:1: FutureWarning: Indexing with multiple keys (implicitly converted to a tuple of keys) will be deprecated, use a list instead.\n",
            "  \"\"\"Entry point for launching an IPython kernel.\n"
          ],
          "name": "stderr"
        },
        {
          "output_type": "execute_result",
          "data": {
            "text/html": [
              "<div>\n",
              "<style scoped>\n",
              "    .dataframe tbody tr th:only-of-type {\n",
              "        vertical-align: middle;\n",
              "    }\n",
              "\n",
              "    .dataframe tbody tr th {\n",
              "        vertical-align: top;\n",
              "    }\n",
              "\n",
              "    .dataframe thead th {\n",
              "        text-align: right;\n",
              "    }\n",
              "</style>\n",
              "<table border=\"1\" class=\"dataframe\">\n",
              "  <thead>\n",
              "    <tr style=\"text-align: right;\">\n",
              "      <th></th>\n",
              "      <th>PIB</th>\n",
              "      <th>expectativa de vida</th>\n",
              "    </tr>\n",
              "    <tr>\n",
              "      <th>ano</th>\n",
              "      <th></th>\n",
              "      <th></th>\n",
              "    </tr>\n",
              "  </thead>\n",
              "  <tbody>\n",
              "    <tr>\n",
              "      <th>1952</th>\n",
              "      <td>2108.944355</td>\n",
              "      <td>50.917</td>\n",
              "    </tr>\n",
              "    <tr>\n",
              "      <th>1957</th>\n",
              "      <td>2487.365989</td>\n",
              "      <td>53.285</td>\n",
              "    </tr>\n",
              "    <tr>\n",
              "      <th>1962</th>\n",
              "      <td>3336.585802</td>\n",
              "      <td>55.665</td>\n",
              "    </tr>\n",
              "    <tr>\n",
              "      <th>1967</th>\n",
              "      <td>3429.864357</td>\n",
              "      <td>57.632</td>\n",
              "    </tr>\n",
              "    <tr>\n",
              "      <th>1972</th>\n",
              "      <td>4985.711467</td>\n",
              "      <td>59.504</td>\n",
              "    </tr>\n",
              "    <tr>\n",
              "      <th>1977</th>\n",
              "      <td>6660.118654</td>\n",
              "      <td>61.489</td>\n",
              "    </tr>\n",
              "    <tr>\n",
              "      <th>1982</th>\n",
              "      <td>7030.835878</td>\n",
              "      <td>63.336</td>\n",
              "    </tr>\n",
              "    <tr>\n",
              "      <th>1987</th>\n",
              "      <td>7807.095818</td>\n",
              "      <td>65.205</td>\n",
              "    </tr>\n",
              "    <tr>\n",
              "      <th>1992</th>\n",
              "      <td>6950.283021</td>\n",
              "      <td>67.057</td>\n",
              "    </tr>\n",
              "    <tr>\n",
              "      <th>1997</th>\n",
              "      <td>7957.980824</td>\n",
              "      <td>69.388</td>\n",
              "    </tr>\n",
              "    <tr>\n",
              "      <th>2002</th>\n",
              "      <td>8131.212843</td>\n",
              "      <td>71.006</td>\n",
              "    </tr>\n",
              "    <tr>\n",
              "      <th>2007</th>\n",
              "      <td>9065.800825</td>\n",
              "      <td>72.390</td>\n",
              "    </tr>\n",
              "  </tbody>\n",
              "</table>\n",
              "</div>"
            ],
            "text/plain": [
              "              PIB  expectativa de vida\n",
              "ano                                   \n",
              "1952  2108.944355               50.917\n",
              "1957  2487.365989               53.285\n",
              "1962  3336.585802               55.665\n",
              "1967  3429.864357               57.632\n",
              "1972  4985.711467               59.504\n",
              "1977  6660.118654               61.489\n",
              "1982  7030.835878               63.336\n",
              "1987  7807.095818               65.205\n",
              "1992  6950.283021               67.057\n",
              "1997  7957.980824               69.388\n",
              "2002  8131.212843               71.006\n",
              "2007  9065.800825               72.390"
            ]
          },
          "metadata": {
            "tags": []
          },
          "execution_count": 19
        }
      ]
    },
    {
      "cell_type": "code",
      "metadata": {
        "id": "xRkxwZMLe3TX",
        "colab_type": "code",
        "colab": {
          "base_uri": "https://localhost:8080/",
          "height": 311
        },
        "outputId": "e2773d36-8c77-4ff5-8ab8-c286d529f60d"
      },
      "source": [
        "# Plotar gráfico de Expectativa de vida do Brasil\n",
        "Brasil.groupby(\"ano\")[\"expectativa de vida\"].mean().plot.bar(color = \"darkorange\",title = \"Expectativa de vida no Brasil: 1952 à 2007\")\n",
        "plt.xlabel(\"Ano\")\n",
        "plt.ylabel(\"Expectativa de vida\");\n"
      ],
      "execution_count": null,
      "outputs": [
        {
          "output_type": "display_data",
          "data": {
            "image/png": "[encoded data removed]",
            "text/plain": [
              "<Figure size 432x288 with 1 Axes>"
            ]
          },
          "metadata": {
            "tags": [],
            "needs_background": "light"
          }
        }
      ]
    },
    {
      "cell_type": "code",
      "metadata": {
        "id": "zNJJYBGCcmHU",
        "colab_type": "code",
        "colab": {
          "base_uri": "https://localhost:8080/",
          "height": 311
        },
        "outputId": "94e487d5-164e-43cb-819c-948bbdcb0a54"
      },
      "source": [
        "# Plotar gráfico de PIB do Brasil por ano relatado\n",
        "Brasil.groupby(\"ano\")[\"PIB\"].mean().plot.bar(title = \"PIB do Brasil entre os anos 1952 e 2007\", color=\"yellowgreen\")\n",
        "plt.xlabel(\"Ano\")\n",
        "plt.ylabel(\"PIB\");"
      ],
      "execution_count": null,
      "outputs": [
        {
          "output_type": "display_data",
          "data": {
            "image/png": "[encoded data removed]",
            "text/plain": [
              "<Figure size 432x288 with 1 Axes>"
            ]
          },
          "metadata": {
            "tags": [],
            "needs_background": "light"
          }
        }
      ]
    },
    {
      "cell_type": "markdown",
      "metadata": {
        "id": "7MM8YcBDlGXy",
        "colab_type": "text"
      },
      "source": [
        "## Analisar os dados dos USA"
      ]
    },
    {
      "cell_type": "code",
      "metadata": {
        "id": "MkrpPExOb5Ba",
        "colab_type": "code",
        "colab": {
          "base_uri": "https://localhost:8080/",
          "height": 295
        },
        "outputId": "47765234-1468-4d5d-cc97-a8b9c977c5f1"
      },
      "source": [
        "# Para os Estados Unidos, plotar o gráfico de PIB e Expectativa de vida durante os anos relatados\n",
        "USA = Americas.loc[(Americas[\"pais\"]==\"United States\")]\n",
        "plt.style.use(\"dark_background\")\n",
        "USA.groupby(\"ano\")[\"PIB\"].sum().plot(color=\"yellowgreen\",marker=\"v\", title=\"PIB dos USA entre 1950 e 2007\" )\n",
        "USA.groupby(\"ano\")[\"expectativa de vida\"].sum().plot(color=\"orange\",title=\"Expectativa de vida nos USA\")\n",
        "plt.xlabel(\"Ano\")\n",
        "plt.ylabel(\"PIB\");"
      ],
      "execution_count": null,
      "outputs": [
        {
          "output_type": "display_data",
          "data": {
            "image/png": "[encoded data removed]",
            "text/plain": [
              "<Figure size 432x288 with 1 Axes>"
            ]
          },
          "metadata": {
            "tags": []
          }
        }
      ]
    },
    {
      "cell_type": "code",
      "metadata": {
        "id": "zUYnY6jyk7b5",
        "colab_type": "code",
        "colab": {
          "base_uri": "https://localhost:8080/",
          "height": 295
        },
        "outputId": "bc5c3f9d-41f9-4d8b-ec40-b04148105871"
      },
      "source": [
        "# E só o gráfico de expectativa de vida nos USA, pq no gráfico anterior não aparece bem\n",
        "USA.groupby(\"ano\")[\"expectativa de vida\"].sum().plot(color=\"orange\",title=\"Expectativa de vida nos USA\")\n",
        "plt.xlabel(\"Ano\")\n",
        "plt.ylabel(\"Expectativa de vida\");"
      ],
      "execution_count": null,
      "outputs": [
        {
          "output_type": "display_data",
          "data": {
            "image/png": "[encoded data removed]",
            "text/plain": [
              "<Figure size 432x288 with 1 Axes>"
            ]
          },
          "metadata": {
            "tags": []
          }
        }
      ]
    },
    {
      "cell_type": "code",
      "metadata": {
        "id": "IvibAPO3moLR",
        "colab_type": "code",
        "colab": {}
      },
      "source": [
        "#Retornar o estilo default de gráficos\n",
        "plt.style.use(\"default\")"
      ],
      "execution_count": null,
      "outputs": []
    },
    {
      "cell_type": "markdown",
      "metadata": {
        "id": "BMbPyfc-lP_M",
        "colab_type": "text"
      },
      "source": [
        "## Comparar os dados de Expectativa de vida e PIB entre Brasil e USA"
      ]
    },
    {
      "cell_type": "code",
      "metadata": {
        "id": "6uGxCinxeozV",
        "colab_type": "code",
        "colab": {
          "base_uri": "https://localhost:8080/",
          "height": 299
        },
        "outputId": "76ccb083-d017-4c4a-e9aa-dac13c673011"
      },
      "source": [
        "# Plotar gráfico comparando o PIB dos USA e do Brasil\n",
        "plt.style.use(\"ggplot\")\n",
        "USA.groupby(USA[\"ano\"])[\"PIB\"].sum().plot(color=\"yellowgreen\" )\n",
        "Brasil.groupby(\"ano\")[\"PIB\"].sum().plot(color=\"orange\",title=\"Comparação de PIB entre Brasil e USA\")\n",
        "plt.xlabel(\"Ano\")\n",
        "plt.ylabel(\"PIB\");"
      ],
      "execution_count": null,
      "outputs": [
        {
          "output_type": "display_data",
          "data": {
            "image/png": "[encoded data removed]",
            "text/plain": [
              "<Figure size 432x288 with 1 Axes>"
            ]
          },
          "metadata": {
            "tags": []
          }
        }
      ]
    },
    {
      "cell_type": "code",
      "metadata": {
        "id": "qqX0gVhFot_5",
        "colab_type": "code",
        "colab": {
          "base_uri": "https://localhost:8080/",
          "height": 299
        },
        "outputId": "750ea632-ac94-48f7-f06f-6592a126ce04"
      },
      "source": [
        "# Gráfico de Expectativa de vida comparando do Brasil e dos USA \n",
        "plt.style.use(\"ggplot\")\n",
        "USA.groupby(USA[\"ano\"])[\"expectativa de vida\"].sum().plot(color=\"yellowgreen\" )\n",
        "Brasil.groupby(\"ano\")[\"expectativa de vida\"].sum().plot(color=\"orange\",title=\"Comparação de expectativa de vida entre Brasil e USA\")\n",
        "plt.xlabel(\"Ano\")\n",
        "plt.ylabel(\"Expectativa de vida\");"
      ],
      "execution_count": null,
      "outputs": [
        {
          "output_type": "display_data",
          "data": {
            "image/png": "[encoded data removed]",
            "text/plain": [
              "<Figure size 432x288 with 1 Axes>"
            ]
          },
          "metadata": {
            "tags": []
          }
        }
      ]
    },
    {
      "cell_type": "code",
      "metadata": {
        "id": "vcoU6ygKjNwx",
        "colab_type": "code",
        "colab": {
          "base_uri": "https://localhost:8080/",
          "height": 299
        },
        "outputId": "884e021d-5d11-4e05-daaf-e7e67399eaf6"
      },
      "source": [
        "# E comparando com a média do continente Americano?\n",
        "plt.style.use(\"ggplot\")\n",
        "USA.groupby(USA[\"ano\"])[\"expectativa de vida\"].sum().plot(color=\"yellowgreen\" )\n",
        "Brasil.groupby(\"ano\")[\"expectativa de vida\"].sum().plot(color=\"orange\",title=\"Comparação de expectativa de vida entre Brasil e USA\")\n",
        "Americas.groupby(Americas[\"ano\"])[\"expectativa de vida\"].mean().plot(color=\"blue\" )\n",
        "plt.xlabel(\"Ano\")\n",
        "plt.ylabel(\"PIB\");"
      ],
      "execution_count": null,
      "outputs": [
        {
          "output_type": "display_data",
          "data": {
            "image/png": "[encoded data removed]",
            "text/plain": [
              "<Figure size 432x288 with 1 Axes>"
            ]
          },
          "metadata": {
            "tags": []
          }
        }
      ]
    }
  ]
}